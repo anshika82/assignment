{
 "cells": [
  {
   "cell_type": "code",
   "execution_count": 2,
   "id": "b5328520-6fcc-47bb-8344-6ea0c4903dfa",
   "metadata": {},
   "outputs": [
    {
     "name": "stdin",
     "output_type": "stream",
     "text": [
      "Enter first number:  23\n",
      "Enter second number:  44\n"
     ]
    },
    {
     "name": "stdout",
     "output_type": "stream",
     "text": [
      "Sum: 67.0, Product: 1012.0\n"
     ]
    }
   ],
   "source": [
    "#1. Calculate the multiplication and sum of two numbers\n",
    "num1 = float(input(\"Enter first number: \"))\n",
    "num2 = float(input(\"Enter second number: \"))\n",
    "sum_result = num1 + num2\n",
    "product_result = num1 * num2\n",
    "print(f\"Sum: {sum_result}, Product: {product_result}\")"
   ]
  },
  {
   "cell_type": "code",
   "execution_count": 4,
   "id": "c6e0595f-a7b8-4966-83f6-8ec476cf984b",
   "metadata": {},
   "outputs": [
    {
     "name": "stdin",
     "output_type": "stream",
     "text": [
      "Enter first variable:  34\n",
      "Enter second variable:  44\n"
     ]
    },
    {
     "name": "stdout",
     "output_type": "stream",
     "text": [
      "The largest number is: 44.0\n"
     ]
    }
   ],
   "source": [
    "#2. Declare two variables and print that which variable is largest using ternary operators\n",
    "a = float(input(\"Enter first variable: \"))\n",
    "b = float(input(\"Enter second variable: \"))\n",
    "largest = a if a > b else b\n",
    "print(f\"The largest number is: {largest}\")"
   ]
  },
  {
   "cell_type": "code",
   "execution_count": 6,
   "id": "24738cc2-a2fe-4bdf-bad3-9337e506308a",
   "metadata": {},
   "outputs": [
    {
     "name": "stdin",
     "output_type": "stream",
     "text": [
      "Enter your name:  anshika\n",
      "Enter your age:  34\n",
      "Enter your city:  kolkata\n"
     ]
    },
    {
     "name": "stdout",
     "output_type": "stream",
     "text": [
      "Hello, my name is anshika. I am 34 years old and I live in kolkata.\n"
     ]
    }
   ],
   "source": [
    "#3. Take input from the user (name, age, and city) and print it in a formatted string\n",
    "name = input(\"Enter your name: \")\n",
    "age = input(\"Enter your age: \")\n",
    "city = input(\"Enter your city: \")\n",
    "\n",
    "print(f\"Hello, my name is {name}. I am {age} years old and I live in {city}.\")\n"
   ]
  },
  {
   "cell_type": "code",
   "execution_count": 10,
   "id": "2990a427-94f5-49af-b72a-79a2bb42efd3",
   "metadata": {},
   "outputs": [
    {
     "name": "stdin",
     "output_type": "stream",
     "text": [
      "Enter first side:  3\n",
      "Enter second side:  4\n",
      "Enter third side:  5\n"
     ]
    },
    {
     "name": "stdout",
     "output_type": "stream",
     "text": [
      "The area of the triangle is: 6.00\n"
     ]
    }
   ],
   "source": [
    "#4. Python program to find the area of a triangle whose sides are given\n",
    "import math\n",
    "side1 = float(input(\"Enter first side: \"))\n",
    "side2 = float(input(\"Enter second side: \"))\n",
    "side3 = float(input(\"Enter third side: \"))\n",
    "s = (side1 + side2 + side3) / 2\n",
    "area = math.sqrt(s * (s - side1) * (s - side2) * (s - side3))\n",
    "print(f\"The area of the triangle is: {area:.2f}\")\n"
   ]
  },
  {
   "cell_type": "code",
   "execution_count": 12,
   "id": "d9ca9200-5328-4978-85d8-871a277ecf73",
   "metadata": {},
   "outputs": [
    {
     "name": "stdin",
     "output_type": "stream",
     "text": [
      "Enter a number:  3\n"
     ]
    },
    {
     "name": "stdout",
     "output_type": "stream",
     "text": [
      "3 is Odd\n"
     ]
    }
   ],
   "source": [
    "#5. Write a Python program to check whether a number is even or odd\n",
    "\n",
    "num = int(input(\"Enter a number: \"))\n",
    "if num % 2 == 0:\n",
    "    print(f\"{num} is Even\")\n",
    "else:\n",
    "    print(f\"{num} is Odd\")\n"
   ]
  },
  {
   "cell_type": "code",
   "execution_count": 14,
   "id": "975a5783-7e89-45ab-8fb8-86faf47d980b",
   "metadata": {},
   "outputs": [
    {
     "name": "stdin",
     "output_type": "stream",
     "text": [
      "Enter a number to find its square and cube:  55\n"
     ]
    },
    {
     "name": "stdout",
     "output_type": "stream",
     "text": [
      "Square: 3025.0, Cube: 166375.0\n"
     ]
    }
   ],
   "source": [
    "#6. Find the square and cube of a given number.\n",
    "\n",
    "num = float(input(\"Enter a number to find its square and cube: \"))\n",
    "\n",
    "square = num ** 2\n",
    "cube = num ** 3\n",
    "print(f\"Square: {square}, Cube: {cube}\")\n"
   ]
  },
  {
   "cell_type": "code",
   "execution_count": null,
   "id": "030bbca8-9843-4251-92b9-a96abc7a3c3b",
   "metadata": {},
   "outputs": [],
   "source": []
  }
 ],
 "metadata": {
  "kernelspec": {
   "display_name": "Python 3 (ipykernel)",
   "language": "python",
   "name": "python3"
  },
  "language_info": {
   "codemirror_mode": {
    "name": "ipython",
    "version": 3
   },
   "file_extension": ".py",
   "mimetype": "text/x-python",
   "name": "python",
   "nbconvert_exporter": "python",
   "pygments_lexer": "ipython3",
   "version": "3.12.4"
  }
 },
 "nbformat": 4,
 "nbformat_minor": 5
}
