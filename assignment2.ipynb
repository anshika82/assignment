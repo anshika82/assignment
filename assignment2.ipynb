{
 "cells": [
  {
   "cell_type": "code",
   "execution_count": 5,
   "id": "b2c5738d-0aee-45f3-90e1-0affe5683dcb",
   "metadata": {},
   "outputs": [
    {
     "name": "stdout",
     "output_type": "stream",
     "text": [
      "True\n",
      "False\n"
     ]
    }
   ],
   "source": [
    "# 1. Function to check if a string is a palindrome\n",
    "def is_palindrome(s):\n",
    "    return s == s[::-1]\n",
    "\n",
    "print(is_palindrome(\"madam\")) \n",
    "print(is_palindrome(\"hello\"))"
   ]
  },
  {
   "cell_type": "code",
   "execution_count": 7,
   "id": "834648d4-df34-4eba-b4e1-a7d56c864982",
   "metadata": {},
   "outputs": [
    {
     "name": "stdout",
     "output_type": "stream",
     "text": [
      "5\n",
      "None\n"
     ]
    }
   ],
   "source": [
    "# 2.Function to find the largest number in a list\n",
    "def find_largest(lst):\n",
    "    return max(lst) if lst else None  \n",
    "\n",
    "print(find_largest([1, 2, 3, 4, 5]))  \n",
    "print(find_largest([]))  \n"
   ]
  },
  {
   "cell_type": "code",
   "execution_count": 9,
   "id": "dcc5261d-f25c-496c-9b7a-f0df72cd663c",
   "metadata": {},
   "outputs": [
    {
     "name": "stdout",
     "output_type": "stream",
     "text": [
      "3\n",
      "1\n"
     ]
    }
   ],
   "source": [
    "# 3.Function to count the number of vowels in a string\n",
    "def count_vowels(s):\n",
    "    vowels = {'a', 'e', 'i', 'o', 'u'}\n",
    "    return sum(1 for char in s.lower() if char in vowels)\n",
    "\n",
    "print(count_vowels(\"Hello World\"))  # 3\n",
    "print(count_vowels(\"Python\"))  # 1\n"
   ]
  },
  {
   "cell_type": "code",
   "execution_count": null,
   "id": "0f9ee5a3-1f8b-4ab4-b068-1339369d3222",
   "metadata": {},
   "outputs": [],
   "source": []
  }
 ],
 "metadata": {
  "kernelspec": {
   "display_name": "Python 3 (ipykernel)",
   "language": "python",
   "name": "python3"
  },
  "language_info": {
   "codemirror_mode": {
    "name": "ipython",
    "version": 3
   },
   "file_extension": ".py",
   "mimetype": "text/x-python",
   "name": "python",
   "nbconvert_exporter": "python",
   "pygments_lexer": "ipython3",
   "version": "3.12.4"
  }
 },
 "nbformat": 4,
 "nbformat_minor": 5
}
